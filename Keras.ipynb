{
 "cells": [
  {
   "cell_type": "markdown",
   "id": "45a9d5f0",
   "metadata": {},
   "source": [
    "# Digit Recognizer\n",
    "\n",
    "In this notebook, our goal is to correctly identify digits from a dataset of tens of thousands of handwritten images. Simple logistic regression is not a good way to learn complex nonlinear hypotheses. We'll ultilizy keras for build a neural network that can read de digitis, we can use other techniques instead of deep learning but here we use deep learn. Neural Networks are a pretty old algorithm that was originally motivated by the goal of having machines that can mimic the brain, \n",
    "Dataset: https://www.kaggle.com/c/digit-recognizer/data  \n",
    "It is not our goal to develop and optimize the ranking model. The example has a merely didactic purpose.\n",
    "\n",
    "We start analysing the data."
   ]
  },
  {
   "cell_type": "code",
   "execution_count": null,
   "id": "77ab4ff6",
   "metadata": {},
   "outputs": [],
   "source": []
  },
  {
   "cell_type": "code",
   "execution_count": null,
   "id": "85ce0eb1",
   "metadata": {},
   "outputs": [],
   "source": [
    "import pandas as pd\n",
    "import numpy as np\n",
    "import torch\n",
    "from sklearn.model_selection import train_test_split\n",
    "from tensorflow import keras\n",
    "from tensorflow.keras.datasets import mnist\n",
    "from tensorflow.keras.models import Sequential\n",
    "from tensorflow.keras.layers import Dense, Dropout\n",
    "from tensorflow.keras.optimizers import Adam\n",
    "import matplotlib.pyplot as plt\n",
    "import seaborn as sns\n",
    "import itertools\n",
    "from sklearn.metrics import classification_report, confusion_matrix\n",
    "\n",
    "\n",
    "\n",
    "train_df = pd.read_csv('/home/leandro/Desktop/Pytorch/train.csv')\n",
    "test = pd.read_csv('/home/leandro/Desktop/Pytorch/test.csv')\n",
    "\n",
    "\n",
    "x = train_df.iloc[:,1:]\n",
    "y = train_df.iloc[:,0]\n",
    "\n",
    "fig, ax = plt.subplots(1,1, figsize=(10,7))\n",
    "sns.countplot(x='label', data=train_df, ax=ax)\n",
    "ax.patch.set_alpha(0)\n",
    "\n",
    "fig.text(0.1,0.92,\"Distribution by Label in Mnist\", fontweight=\"bold\", fontfamily='serif', fontsize=17)\n",
    "\n",
    "\n",
    "print('Data Shape')\n",
    "print(train_df.shape)\n",
    "print(test.shape)\n",
    "\n",
    "\n"
   ]
  },
  {
   "cell_type": "code",
   "execution_count": null,
   "id": "cc5d1cb4",
   "metadata": {
    "scrolled": true
   },
   "outputs": [],
   "source": [
    "fig , axes = plt.subplots(5, 5, figsize=(15,15))\n",
    "\n",
    "x_idx = 0\n",
    "y_idx = 0\n",
    "\n",
    "for i in range(5*5):\n",
    "    if x_idx == 5:\n",
    "        x_idx = 0\n",
    "        y_idx += 1\n",
    "        \n",
    "    axes[y_idx][x_idx].imshow(x[i].reshape(28,28), 'gray')\n",
    "    axes[y_idx][x_idx].axis(\"off\")\n",
    "    x_idx += 1\n",
    "\n",
    "plt.show()\n",
    "\n"
   ]
  },
  {
   "cell_type": "markdown",
   "id": "915b910f",
   "metadata": {},
   "source": [
    "We'll construct a simple neural network, with one hidden layer and 10 outputs. We don't will split the training data set, we'll train our model with all the data we have and test him with the test data set submiting him in kaggle.\n"
   ]
  },
  {
   "cell_type": "code",
   "execution_count": null,
   "id": "6c2ec2c0",
   "metadata": {},
   "outputs": [],
   "source": [
    "#Prepare data\n",
    "\n",
    "length = x.shape[0]\n",
    "x = x.reshape(-1, 28*28)\n",
    "test = test.values.reshape(-1, 28*28)\n",
    "x = x.astype('float32')/  255\n",
    "y = keras.utils.to_categorical(y, 10)"
   ]
  },
  {
   "cell_type": "code",
   "execution_count": null,
   "id": "7b1711a4",
   "metadata": {},
   "outputs": [],
   "source": [
    "#Neural network\n",
    "\n",
    "model = Sequential()\n",
    "model.add(Dense(800, activation='relu'))\n",
    "model.add(Dense(num_classes, activation='softmax'))\n",
    "model.compile(loss='categorical_crossentropy',\n",
    "              optimizer=Adam(),\n",
    "              metrics=['accuracy'])\n",
    "\n",
    "\n",
    "batch_size = 32\n",
    "epochs = 30\n",
    "history = model.fit(x, y,\n",
    "                    batch_size=batch_size,\n",
    "                    epochs=epochs,\n",
    "                    verbose=1,\n",
    "                    validation_data=(x, y))\n",
    "\n",
    "predictions = model.predict_classes(test, verbose=0)\n",
    "\n",
    "batch_size = 32\n",
    "epochs = 30\n",
    "history = model.fit(x, y,\n",
    "                    batch_size=batch_size,\n",
    "                    epochs=epochs,\n",
    "                    verbose=1,\n",
    "                    validation_data=(x, y))\n",
    "\n",
    "predictions = model.predict_classes(test, verbose=0)\n"
   ]
  },
  {
   "cell_type": "code",
   "execution_count": null,
   "id": "0011562c",
   "metadata": {},
   "outputs": [],
   "source": [
    "# submission\n",
    "submissions = pd.DataFrame({\"ImageId\": list(range(1,len(predictions)+1)),\n",
    "    \"Label\": predictions})\n",
    "submissions.to_csv(\"/home/leandro/Desktop/Pytorch/DR.csv\", index=False, header=True)"
   ]
  }
 ],
 "metadata": {
  "kernelspec": {
   "display_name": "Python 3",
   "language": "python",
   "name": "python3"
  },
  "language_info": {
   "codemirror_mode": {
    "name": "ipython",
    "version": 3
   },
   "file_extension": ".py",
   "mimetype": "text/x-python",
   "name": "python",
   "nbconvert_exporter": "python",
   "pygments_lexer": "ipython3",
   "version": "3.7.10"
  },
  "varInspector": {
   "cols": {
    "lenName": 16,
    "lenType": 16,
    "lenVar": 40
   },
   "kernels_config": {
    "python": {
     "delete_cmd_postfix": "",
     "delete_cmd_prefix": "del ",
     "library": "var_list.py",
     "varRefreshCmd": "print(var_dic_list())"
    },
    "r": {
     "delete_cmd_postfix": ") ",
     "delete_cmd_prefix": "rm(",
     "library": "var_list.r",
     "varRefreshCmd": "cat(var_dic_list()) "
    }
   },
   "types_to_exclude": [
    "module",
    "function",
    "builtin_function_or_method",
    "instance",
    "_Feature"
   ],
   "window_display": false
  }
 },
 "nbformat": 4,
 "nbformat_minor": 5
}
